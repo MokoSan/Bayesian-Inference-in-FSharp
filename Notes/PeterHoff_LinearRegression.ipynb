{
 "cells": [
  {
   "cell_type": "code",
   "execution_count": 1,
   "metadata": {},
   "source": [
    "#!fsharp\n",
    "// Imports needed for Latex rendering.\n",
    "#r \"nuget:AngouriMath.Interactive, *-*\" // https://github.com/asc-community/AngouriMath\n",
    "Interactive.magic();\n",
    "\n",
    "open Functions\n",
    "open Operators\n",
    "open Core\n",
    "open System"
   ],
   "outputs": []
  },
  {
   "cell_type": "markdown",
   "metadata": {},
   "source": [
    "# Chapter 9: Linear Regression\n",
    "\n",
    "Notes from Peter Hoff's \"A First Course in Bayesian Statistical Methods\".\n",
    "\n",
    "## 9.1 The Linear Regression Model\n",
    "\n",
    "1. Regression Modeling is concerned with describing how the sampling distribution of one random variable **Y** varies with another variable or a set of variables **x**.\n",
    "\n",
    "2. A Linear Regression Model is particular type of __smoothly__ changing model for p(y | x) that specifies the conditional Expectation E[Y | __x__] has a form that's linear in a set of parameters"
   ]
  },
  {
   "cell_type": "code",
   "execution_count": 1,
   "metadata": {},
   "source": [
    "#!fsharp\n",
    "//open FromToString\n",
    "\n",
    "//parse \"integral(sqrt(x + derivative(sin(y), y)), x)\"\n",
    "latex \"x2 + sin(sqrt(x + 1/2)) + sqrt(x + derivative(sin(y), y))\"\n",
    "// \"integral( y * p(y | x), y)\""
   ],
   "outputs": [
    {
     "output_type": "execute_result",
     "data": {
      "text/plain": "{x}^{2}+\\sin\\left(\\sqrt{x+\\frac{1}{2}}\\right)+\\sqrt{x+\\frac{d\\left[\\sin\\left(y\\right)\\right]}{dy}}"
     },
     "execution_count": 1,
     "metadata": {}
    }
   ]
  },
  {
   "cell_type": "code",
   "execution_count": 1,
   "metadata": {},
   "source": [
    "#!fsharp\n",
    ""
   ],
   "outputs": []
  },
  {
   "cell_type": "markdown",
   "metadata": {},
   "source": [
    ""
   ]
  },
  {
   "cell_type": "markdown",
   "metadata": {},
   "source": [
    ""
   ]
  },
  {
   "cell_type": "markdown",
   "metadata": {},
   "source": [
    ""
   ]
  },
  {
   "cell_type": "markdown",
   "metadata": {},
   "source": [
    ""
   ]
  },
  {
   "cell_type": "code",
   "execution_count": 1,
   "metadata": {},
   "source": [
    ""
   ],
   "outputs": []
  }
 ],
 "metadata": {
  "kernelspec": {
   "display_name": ".NET (C#)",
   "language": "C#",
   "name": ".net-csharp"
  },
  "language_info": {
   "file_extension": ".cs",
   "mimetype": "text/x-csharp",
   "name": "C#",
   "pygments_lexer": "csharp",
   "version": "8.0"
  }
 },
 "nbformat": 4,
 "nbformat_minor": 4
}