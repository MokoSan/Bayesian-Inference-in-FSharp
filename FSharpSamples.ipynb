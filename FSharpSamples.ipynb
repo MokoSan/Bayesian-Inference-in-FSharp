{
 "cells": [
  {
   "cell_type": "markdown",
   "metadata": {},
   "source": [
    "# FSharp Samples"
   ]
  },
  {
   "cell_type": "markdown",
   "metadata": {},
   "source": [
    "## Downloading Nuget Packages"
   ]
  },
  {
   "cell_type": "code",
   "execution_count": 1,
   "metadata": {},
   "source": [
    "#!fsharp\n",
    "#r \"nuget: XPlot.Plotly\"\n",
    "#r \"nuget: FSharp.Data\"\n",
    "#r \"nuget: MathNet.Numerics\""
   ],
   "outputs": [
    {
     "output_type": "execute_result",
     "data": {
      "text/plain": "Installed package XPlot.Plotly version 3.0.1"
     },
     "execution_count": 1,
     "metadata": {}
    },
    {
     "output_type": "execute_result",
     "data": {
      "text/plain": "Installed package FSharp.Data version 3.3.3"
     },
     "execution_count": 1,
     "metadata": {}
    },
    {
     "output_type": "execute_result",
     "data": {
      "text/plain": "Installed package MathNet.Numerics version 4.12.0"
     },
     "execution_count": 1,
     "metadata": {}
    }
   ]
  },
  {
   "cell_type": "markdown",
   "metadata": {},
   "source": [
    "## Reading a CSV File"
   ]
  },
  {
   "cell_type": "code",
   "execution_count": 1,
   "metadata": {},
   "source": [
    "#!fsharp\n",
    "open FSharp.Data\n",
    "open System.IO\n",
    "\n",
    "let sp500 = CsvFile.Load(Path.Join(__SOURCE_DIRECTORY__, \"./Data/SP500.csv\" ))\n",
    "\n",
    "// Print the prices in the HLOC format\n",
    "sp500.Rows\n",
    "|> Seq.take 5"
   ],
   "outputs": [
    {
     "output_type": "execute_result",
     "data": {
      "text/html": "<table><thead><tr><th><i>index</i></th><th>Columns</th></tr></thead><tbody><tr><td>0</td><td><div class=\"dni-plaintext\">[ 2008-05-02, 1413.900024, 0.0032303750170896706 ]</div></td></tr><tr><td>1</td><td><div class=\"dni-plaintext\">[ 2008-05-05, 1407.48999, -0.0045438914840980615 ]</div></td></tr><tr><td>2</td><td><div class=\"dni-plaintext\">[ 2008-05-06, 1418.26001, 0.007622806087752565 ]</div></td></tr><tr><td>3</td><td><div class=\"dni-plaintext\">[ 2008-05-07, 1392.569946, -0.018279853115200417 ]</div></td></tr><tr><td>4</td><td><div class=\"dni-plaintext\">[ 2008-05-08, 1397.680054, 0.0036628357410659618 ]</div></td></tr></tbody></table>"
     },
     "execution_count": 1,
     "metadata": {}
    }
   ]
  },
  {
   "cell_type": "markdown",
   "metadata": {},
   "source": [
    "## Plotting a Pie Chart"
   ]
  },
  {
   "cell_type": "code",
   "execution_count": 1,
   "metadata": {},
   "source": [
    "#!fsharp\n",
    "open XPlot.Plotly\n",
    "\n",
    "[ \"Pizza remaining\", 3; \"Pizza eaten\", 5 ]\n",
    "|> Chart.Pie"
   ],
   "outputs": [
    {
     "output_type": "execute_result",
     "data": {
      "text/html": "<div id=\"89fa4715-1f50-41dd-82ce-de8bb942fad8\" style=\"width: 900px; height: 500px;\"></div>\r\n<script type=\"text/javascript\">\n\r\nvar renderPlotly = function() {\r\n    var xplotRequire = require.config({context:'xplot-3.0.1',paths:{plotly:'https://cdn.plot.ly/plotly-1.49.2.min'}}) || require;\r\n    xplotRequire(['plotly'], function(Plotly) {\n\n            var data = [{\"type\":\"pie\",\"labels\":[\"Pizza remaining\",\"Pizza eaten\"],\"values\":[3,5]}];\n            var layout = \"\";\n            Plotly.newPlot('89fa4715-1f50-41dd-82ce-de8bb942fad8', data, layout);\n        \n});\r\n};\n// ensure `require` is available globally\r\nif ((typeof(require) !==  typeof(Function)) || (typeof(require.config) !== typeof(Function))) {\r\n    let require_script = document.createElement('script');\r\n    require_script.setAttribute('src', 'https://cdnjs.cloudflare.com/ajax/libs/require.js/2.3.6/require.min.js');\r\n    require_script.setAttribute('type', 'text/javascript');\r\n    \r\n    \r\n    require_script.onload = function() {\r\n        renderPlotly();\r\n    };\r\n\r\n    document.getElementsByTagName('head')[0].appendChild(require_script);\r\n}\r\nelse {\r\n    renderPlotly();\r\n}\r\n\n</script>\n"
     },
     "execution_count": 1,
     "metadata": {}
    }
   ]
  },
  {
   "cell_type": "markdown",
   "metadata": {},
   "source": [
    "## Plotting a Line Plot"
   ]
  },
  {
   "cell_type": "code",
   "execution_count": 1,
   "metadata": {},
   "source": [
    "#!fsharp\n",
    "open XPlot.Plotly\n",
    "// Source: https://gist.github.com/theprash/7b6163d55b199359cd0dc68c477af0fa \n",
    "\n",
    "#r \"System.Net.Http\"\n",
    "#r \"nuget: Newtonsoft.Json\"\n",
    "\n",
    "let client = new System.Net.Http.HttpClient()\n",
    "let weatherJson =\n",
    "    client\n",
    "        .GetStringAsync(\"http://www.7timer.info/bin/astro.php?lon=113.2&lat=23.1&ac=0&unit=metric&output=json&tzshift=0\")\n",
    "        .Result\n",
    "\n",
    "let jObj = Newtonsoft.Json.Linq.JObject.Parse weatherJson\n",
    "\n",
    "jObj.[\"dataseries\"]\n",
    "|> Seq.map (fun x -> x.Value<float> \"timepoint\", x.Value<float> \"cloudcover\" )\n",
    "|> Seq.toArray\n",
    "|> Chart.Line\n",
    "|> Chart.WithXTitle \"Time\"\n",
    "|> Chart.WithYTitle \"Cloud cover\""
   ],
   "outputs": [
    {
     "output_type": "execute_result",
     "data": {
      "text/html": "<div id=\"19b9da40-b320-4da1-bdf4-81ab6d592653\" style=\"width: 900px; height: 500px;\"></div>\r\n<script type=\"text/javascript\">\n\r\nvar renderPlotly = function() {\r\n    var xplotRequire = require.config({context:'xplot-3.0.1',paths:{plotly:'https://cdn.plot.ly/plotly-1.49.2.min'}}) || require;\r\n    xplotRequire(['plotly'], function(Plotly) {\n\n            var data = [{\"type\":\"scatter\",\"x\":[3.0,6.0,9.0,12.0,15.0,18.0,21.0,24.0,27.0,30.0,33.0,36.0,39.0,42.0,45.0,48.0,51.0,54.0,57.0,60.0,63.0,66.0,69.0,72.0],\"y\":[9.0,9.0,9.0,9.0,9.0,9.0,9.0,9.0,9.0,9.0,9.0,9.0,9.0,9.0,9.0,9.0,9.0,9.0,8.0,5.0,1.0,4.0,9.0,9.0]}];\n            var layout = {\"xaxis\":{\"title\":\"Time\",\"_isSubplotObj\":true},\"yaxis\":{\"title\":\"Cloud cover\",\"_isSubplotObj\":true}};\n            Plotly.newPlot('19b9da40-b320-4da1-bdf4-81ab6d592653', data, layout);\n        \n});\r\n};\n// ensure `require` is available globally\r\nif ((typeof(require) !==  typeof(Function)) || (typeof(require.config) !== typeof(Function))) {\r\n    let require_script = document.createElement('script');\r\n    require_script.setAttribute('src', 'https://cdnjs.cloudflare.com/ajax/libs/require.js/2.3.6/require.min.js');\r\n    require_script.setAttribute('type', 'text/javascript');\r\n    \r\n    \r\n    require_script.onload = function() {\r\n        renderPlotly();\r\n    };\r\n\r\n    document.getElementsByTagName('head')[0].appendChild(require_script);\r\n}\r\nelse {\r\n    renderPlotly();\r\n}\r\n\n</script>\n"
     },
     "execution_count": 1,
     "metadata": {}
    }
   ]
  },
  {
   "cell_type": "markdown",
   "metadata": {},
   "source": [
    "## Plotting 2 Line Plots on One Chart"
   ]
  },
  {
   "cell_type": "code",
   "execution_count": 1,
   "metadata": {},
   "source": [
    "#!fsharp\n",
    "open XPlot.Plotly\n",
    "// Source: https://fslab.org/XPlot/chart/plotly-line-scatter-plots.html\n",
    "\n",
    "let trace1 =\n",
    "    Scatter(\n",
    "        x = [1; 2; 3; 4],\n",
    "        y = [10; 15; 13; 17]\n",
    "    )\n",
    "\n",
    "let trace2 =\n",
    "    Scatter(\n",
    "        x = [2; 3; 4; 5],\n",
    "        y = [16; 5; 11; 9]\n",
    "    )\n",
    "\n",
    "[trace1; trace2]\n",
    "|> Chart.Plot\n",
    "|> Chart.WithWidth 700\n",
    "|> Chart.WithHeight 500"
   ],
   "outputs": [
    {
     "output_type": "execute_result",
     "data": {
      "text/html": "<div id=\"fce6e8a1-4896-4e8c-a1b2-c68a1d65aa9c\" style=\"width: 700px; height: 500px;\"></div>\r\n<script type=\"text/javascript\">\n\r\nvar renderPlotly = function() {\r\n    var xplotRequire = require.config({context:'xplot-3.0.1',paths:{plotly:'https://cdn.plot.ly/plotly-1.49.2.min'}}) || require;\r\n    xplotRequire(['plotly'], function(Plotly) {\n\n            var data = [{\"type\":\"scatter\",\"x\":[1,2,3,4],\"y\":[10,15,13,17]},{\"type\":\"scatter\",\"x\":[2,3,4,5],\"y\":[16,5,11,9]}];\n            var layout = \"\";\n            Plotly.newPlot('fce6e8a1-4896-4e8c-a1b2-c68a1d65aa9c', data, layout);\n        \n});\r\n};\n// ensure `require` is available globally\r\nif ((typeof(require) !==  typeof(Function)) || (typeof(require.config) !== typeof(Function))) {\r\n    let require_script = document.createElement('script');\r\n    require_script.setAttribute('src', 'https://cdnjs.cloudflare.com/ajax/libs/require.js/2.3.6/require.min.js');\r\n    require_script.setAttribute('type', 'text/javascript');\r\n    \r\n    \r\n    require_script.onload = function() {\r\n        renderPlotly();\r\n    };\r\n\r\n    document.getElementsByTagName('head')[0].appendChild(require_script);\r\n}\r\nelse {\r\n    renderPlotly();\r\n}\r\n\n</script>\n"
     },
     "execution_count": 1,
     "metadata": {}
    }
   ]
  },
  {
   "cell_type": "markdown",
   "metadata": {},
   "source": [
    "## Plotting a Histogram"
   ]
  },
  {
   "cell_type": "code",
   "execution_count": 1,
   "metadata": {},
   "source": [
    "#!fsharp\n",
    "open XPlot.Plotly\n",
    "\n",
    "let x = [1;1;1;1;1;1;2;3;4;5;6;6;7;8;]\n",
    "Histogram(x = x) \n",
    "|> Chart.Plot\n",
    "|> Chart.WithWidth 700\n",
    "|> Chart.WithHeight 500"
   ],
   "outputs": [
    {
     "output_type": "execute_result",
     "data": {
      "text/html": "<div id=\"e7a0b06e-064c-448d-836b-c99ae8046956\" style=\"width: 700px; height: 500px;\"></div>\r\n<script type=\"text/javascript\">\n\r\nvar renderPlotly = function() {\r\n    var xplotRequire = require.config({context:'xplot-3.0.1',paths:{plotly:'https://cdn.plot.ly/plotly-1.49.2.min'}}) || require;\r\n    xplotRequire(['plotly'], function(Plotly) {\n\n            var data = [{\"type\":\"histogram\",\"x\":[1,1,1,1,1,1,2,3,4,5,6,6,7,8]}];\n            var layout = \"\";\n            Plotly.newPlot('e7a0b06e-064c-448d-836b-c99ae8046956', data, layout);\n        \n});\r\n};\n// ensure `require` is available globally\r\nif ((typeof(require) !==  typeof(Function)) || (typeof(require.config) !== typeof(Function))) {\r\n    let require_script = document.createElement('script');\r\n    require_script.setAttribute('src', 'https://cdnjs.cloudflare.com/ajax/libs/require.js/2.3.6/require.min.js');\r\n    require_script.setAttribute('type', 'text/javascript');\r\n    \r\n    \r\n    require_script.onload = function() {\r\n        renderPlotly();\r\n    };\r\n\r\n    document.getElementsByTagName('head')[0].appendChild(require_script);\r\n}\r\nelse {\r\n    renderPlotly();\r\n}\r\n\n</script>\n"
     },
     "execution_count": 1,
     "metadata": {}
    }
   ]
  },
  {
   "cell_type": "markdown",
   "metadata": {},
   "source": [
    "## The Metropolis-Hastings Algorithm: Iterative with a Fixed Proposal Distribution"
   ]
  },
  {
   "cell_type": "code",
   "execution_count": 1,
   "metadata": {},
   "source": [
    "#!fsharp\n",
    "open System\n",
    "open MathNet.Numerics.Distributions\n",
    "\n",
    "let gaussianMetropolisHastingsFixedProposal (numberOfIterations: int) (mu : double) (sigma : double) : double list =\n",
    "    let mutable states : double list = [] \n",
    "    let burnin = int (double numberOfIterations * 0.2)\n",
    "\n",
    "    let proposedUniform = ContinuousUniform(mu - 5.0 * sigma, mu + 5.0 * sigma).RandomSource\n",
    "    let zeroOneUniform  = ContinuousUniform().RandomSource\n",
    "    let normal          = Normal(mu, sigma)\n",
    "\n",
    "    // Initialize the current state.\n",
    "    let mutable current = proposedUniform.NextDouble()\n",
    "\n",
    "    for i in 0..numberOfIterations do\n",
    "\n",
    "        // Proposed Move\n",
    "        let proposedMove = proposedUniform.NextDouble()\n",
    "\n",
    "        // Acceptance Ratio\n",
    "        let currentProbability = normal.Density(current)\n",
    "        let proposedProbabilty = normal.Density(proposedMove) \n",
    "        let acceptanceRatio    = Math.Min(proposedProbabilty / currentProbability, 1.0)\n",
    "\n",
    "        // Choice\n",
    "        let uniform     = ContinuousUniform();\n",
    "        let uniformDraw = uniform.RandomSource.NextDouble()\n",
    "\n",
    "        if (uniformDraw < acceptanceRatio) then current <- proposedMove \n",
    "\n",
    "        // Append the current state \n",
    "        states <- states @ [current]\n",
    "\n",
    "    states\n",
    "    |> List.skip(burnin)\n",
    "\n",
    "let mhRun = (gaussianMetropolisHastings 100000 0.0 1.0)\n",
    "\n",
    "Histogram(x = mhRun)\n",
    "|> Chart.Plot\n",
    "|> Chart.WithWidth 700\n",
    "|> Chart.WithHeight 500"
   ],
   "outputs": []
  }
 ],
 "metadata": {
  "kernelspec": {
   "display_name": ".NET (C#)",
   "language": "C#",
   "name": ".net-csharp"
  },
  "language_info": {
   "file_extension": ".cs",
   "mimetype": "text/x-csharp",
   "name": "C#",
   "pygments_lexer": "csharp",
   "version": "8.0"
  }
 },
 "nbformat": 4,
 "nbformat_minor": 4
}