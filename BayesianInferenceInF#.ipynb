{
 "cells": [
  {
   "cell_type": "markdown",
   "metadata": {},
   "source": [
    "# Bayesian Inference in FSharp\n",
    "\n",
    "## Bayes Theorem\n",
    "\n",
    "## Markov-Chain Monte-Carlo Methods\n",
    "\n",
    "## Stochastic Volatility Model\n",
    ""
   ]
  },
  {
   "cell_type": "code",
   "execution_count": 1,
   "metadata": {},
   "source": [
    "#!fsharp\n",
    "// Dependencies\n",
    "#r \"nuget: XPlot.Plotly\"\n",
    "#r \"nuget: Accord\"\n",
    "#r \"nuget: MathNet.Numerics\"\n",
    "\n",
    "\n",
    "// Imports \n",
    "open XPlot.Plotly\n",
    "open MathNet.Numerics\n",
    "open Accord"
   ],
   "outputs": []
  },
  {
   "cell_type": "code",
   "execution_count": 1,
   "metadata": {},
   "source": [
    "#!fsharp\n",
    ""
   ],
   "outputs": []
  }
 ],
 "metadata": {
  "kernelspec": {
   "display_name": ".NET (C#)",
   "language": "C#",
   "name": ".net-csharp"
  },
  "language_info": {
   "file_extension": ".cs",
   "mimetype": "text/x-csharp",
   "name": "C#",
   "pygments_lexer": "csharp",
   "version": "8.0"
  }
 },
 "nbformat": 4,
 "nbformat_minor": 4
}