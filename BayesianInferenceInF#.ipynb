{
 "cells": [
  {
   "cell_type": "markdown",
   "metadata": {},
   "source": [
    "# Bayesian Inference in FSharp\n",
    "\n",
    "\n",
    "## Introduction\n",
    "\n",
    "For my F# Advent submission this year, I decided to implement an extremely simple Bayesian Statistical Framework to be used for inference. The purpose of statistical inference is to infer characteristics of a population via samples to be used for further tasks such as making predictions. The \"Bayesian\" prefix refers to making use of the Bayes Theorem to conduct inferential statistics.\n",
    "\n",
    "![image.png](./Images/StatisticalInference.png)\n",
    "\n",
    "I like to think of Statistical Inference via a pasta cooking analogy: hypothetically, assume you lose the cooking instructions of dried pasta you are trying to cook. You start boiling the water and don't know when the pasta is al-dente. One way to check is to careful remove a single piece and test if it is cooked to your liking. Through this process, you'll know right away if the pasta needs to cook more or is ready to be sauce'd up. Similarly, inference deals with trying to figure out characteristics (__is the pasta ready?__) of a population (__all the pasta__) via a sample (__a single piece of pasta__).\n",
    "\n",
    "![image.png](./Images/pasta.jpg)\n",
    "\n",
    "F#, as a language, didn't fail to deliver an awesome development experience! The particular aspects of the language that made it easy to develop a Bayesian Statistical Framework are [Pattern Matching](https://docs.microsoft.com/en-us/dotnet/fsharp/language-reference/pattern-matching) and Immutable Functional Data Structures such as [Records](https://fsharpforfunandprofit.com/posts/records/) and [Discriminated Unions](https://fsharpforfunandprofit.com/posts/discriminated-unions/) that make expressing the domain succinctly and lucidly not only for the developer but also the reader.\n"
   ]
  },
  {
   "cell_type": "markdown",
   "metadata": {},
   "source": [
    "## Motivation\n",
    "\n",
    "I recently received a Masters in Data Science but discovered that none of my courses dove deep into Bayesian Statistics. Therefore, motivated by a penchant desire to fully understand the differences between frequentist approaches and Bayesian ones to eventually gain an understanding of Bayesian Neural Networks was the impetus behind trying to understand the statistical theory. \n",
    "\n",
    "While reading  [\"A First Course in Bayesian Statistical Methods\"](https://www.amazon.com/Bayesian-Statistical-Methods-Springer-Statistics/dp/1441928286/ref=sr_1_2?crid=3D7COZ06U9AU1&dchild=1&keywords=a+first+course+in+bayesian+statistical+methods&qid=1608705310&sprefix=A+first+course+in+baye%2Caps%2C239&sr=8-2) by Peter Hoff (highly recommend this book to those with a strong mathematical background), I discovered [pymc3](https://docs.pymc.io/), a Probabilistic Programming library in Python. Pymc3, in my opinion, has some great abstractions that I wanted to implement myself in a functional-first setting. \n",
    "\n",
    "The best way to learn a new statistical algorithm is my implementing it and the best way to learn something well is to teach it to others and hence, this submission is a result of that ideology. "
   ]
  },
  {
   "cell_type": "markdown",
   "metadata": {},
   "source": [
    "## Bayes Theorem\n",
    "\n",
    "The crux of Bayesian Inference lies in making use of the Bayes Theorem whose formula is the following:\n",
    "\n",
    "$p(\\theta \\mid y) = \\frac{p(y \\mid \\theta) p(\\theta)}{p(y)}$\n",
    "\n",
    "| Term           | Formula | Definition  |\n",
    "| :------------- | :----------: | -----------: |\n",
    "|  Prior         |  $p(\\theta)$  | Quantification of t   |  |\n",
    "| Likelihood     | $p(y \\mid \\theta)$ | In light of observations,  | | |\n",
    "| Evidence       | $p(y)$ | The normalizing constant so that the probability is between 0 and 1. |\n",
    "| Posterior      | $p(\\theta \\mid y)$ |  | | |\n",
    "\n",
    "The premise of the interpretation of Bayes Theorem that resonates most with the scientific method is that you first come up with a hypothesis (prior), you figure out the likelihood that the hypothesis is valid based on available evidence and then quantify the validity of the hypothesis by highlighting the level of associated uncertainty. \n",
    "\n"
   ]
  },
  {
   "cell_type": "markdown",
   "metadata": {},
   "source": [
    "## Bayesian Inference in Practice\n",
    "\n",
    "In practice, the denominator or the evidence i.e. the normalization constant of the Bayes theorem is a pain to calculate. For example, for continuous variables, Bayes theorem has the following form:\n",
    "\n",
    "$p(\\theta \\mid y) = \\frac{p(y \\mid \\theta) p(\\theta)}{\\int_{\\Theta}p(y \\mid \\tilde{\\theta}) p(\\tilde{\\theta}) \\; d\\tilde{\\theta}}$\n",
    "\n",
    "That integral in the denominator is UGLY and sometimes computational infeasible and so, approximation techniques must be used to get to generate the posterior distribution : enter __Markov-Chain Monte Carlo (MCMC)__ methods taking advantage of the fact that the denominator is a __normalization constant__ or in other words:\n",
    "\n",
    "$p(\\theta \\mid y) \\propto p(y \\mid \\theta) p(\\theta)$\n",
    "\n",
    "\n",
    "### Markov-Chain Monte-Carlo Methods\n",
    "\n",
    "Monte Carlo  = Random Number Generation; you \n",
    "Markov-Chain = The future only depends on the present, not the past. Linked list of approximations."
   ]
  },
  {
   "cell_type": "markdown",
   "metadata": {},
   "source": [
    "## Goals\n",
    "\n",
    "The goals of this submission are to develop the following:\n",
    "\n",
    "1. __A Bayesian Domain Specific Language (DSL) and Its Parser__ that a statistician with no programming experience can understand and use to specify a model and its parameters and code that parses the model.\n",
    "2. __A Bayesian Network__ from the Parsed Bayesian DSL addressing the simplest case i.e. one random variable representing the prior and one for the likelihood.\n",
    "3. __Symmeteric Metropolis-Hastings__, an MCMC algorithm that makes use of the Bayesian DSL representation to approximate the posterior distribution.\n",
    "\n",
    "![image](./Images/Plan.png)"
   ]
  },
  {
   "cell_type": "markdown",
   "metadata": {},
   "source": [
    "## Getting Setup\n",
    "\n",
    "The inferential logic will require minimal dependencies. Here are the dependencies and their respective uses:\n",
    "\n",
    "| Dependency        | Use          |\n",
    "| :-----------------| :----------: | \n",
    "| __XPlot.Plotly__  | Used for charting the histogram of the distributions.\n",
    "| __MathNet.Numerics__     | Used for the out-of-the-box statistical distributions. |\n",
    "| __Newtonsoft.Json__      | Parsing the parameters of the Bayesian DSL. |\n"
   ]
  },
  {
   "cell_type": "code",
   "execution_count": 2,
   "metadata": {},
   "outputs": [],
   "source": [
    "// Dependencies\n",
    "#r \"nuget: XPlot.Plotly\"\n",
    "#r \"nuget: MathNet.Numerics\"\n",
    "#r \"nuget: Newtonsoft.Json\"\n",
    "\n",
    "// Imports \n",
    "open XPlot.Plotly\n",
    "open MathNet.Numerics\n",
    "open Newtonsoft.Json"
   ]
  },
  {
   "cell_type": "markdown",
   "metadata": {},
   "source": [
    "## A Bayesian Domain Specific Language (DSL)  and Its Parser\n",
    "\n",
    "![plan1](./Images/Plan_Section1.png)\n",
    "\n",
    "The goal of this section is to develop \"A Bayesian Domain Specific Language (DSL) that a statistician with no programming experience can understand and use to specify a model and its parameters and code that parses the model.\". \n",
    "\n",
    "Drawing inspiration from [Stan](https://mc-stan.org) and pymc3 tutorials such as this [one](https://docs.pymc.io/notebooks/stochastic_volatility.html#Stochastic-Volatility-model), I wanted this DSL to be extremely simple but complete and therefore, the components I found that describe each random variable of the Bayesian Model are:\n",
    "\n",
    "1. The Name of the Random Variable \n",
    "2. Conditionals of the Random Variables i.e. what other variables are given to be true to completely specify the random variable\n",
    "3. The distribution associated with the random variable.\n",
    "4. The parameters as variables of the distribution e.g. for a Normal Distribution, the parameters will be $\\mu$ and $\\sigma$, the mean and the variance respectively. \n",
    "5. The observed data for the Random Variable - if the random variable has \n",
    "6. A map of the parameters to constants to decouple the model from the values associated with the model.\n",
    "\n",
    "### Format\n",
    "\n",
    "```\n",
    "Random Variable Name [|Comma-separated Conditionals] ~ Distribution(Comma-separated Parameters without spaces) [: observed] \n",
    "```\n",
    "\n",
    "The details enclosed in ``[]`` imply optionality.\n",
    "\n",
    "### Example\n",
    "\n",
    "```\n",
    "θ ~ Gamma(a,b)\n",
    "Y|θ ~ Poisson(θ) : observed1\n",
    "Z|Y,θ ~ Beta(θ, Y) : observed2\n",
    "```"
   ]
  },
  {
   "cell_type": "markdown",
   "metadata": {},
   "source": [
    "### The Domain\n",
    "\n",
    "The domain or the types associated with the representation of the parsed random variable representing a single line in the specified model. "
   ]
  },
  {
   "cell_type": "code",
   "execution_count": 3,
   "metadata": {},
   "outputs": [],
   "source": [
    "#!fsharp\n",
    "\n",
    "type ParsedRandomVariable = \n",
    "    { Name             : string\n",
    "      Conditionals     : string list\n",
    "      Distribution     : string\n",
    "      Parameters       : string list\n",
    "      Observed         : string option }\n",
    "type ParsedBayesianModel = ParsedRandomVariable list"
   ]
  },
  {
   "cell_type": "markdown",
   "metadata": {},
   "source": [
    "### Parsing Logic\n",
    "\n",
    "The parsing logic for each line in the user specified model is as follows:\n",
    "1. Split the line by spaces.\n",
    "2. Extract the Name and the Conditionals from the first part of the model split on the tilde (~). ``Random Variable Name | [Conditionals]``.\n",
    "3. From the second part of the model split on the tilde, get the name of the distribution and its associated parameters along with the optionally available observed variable.\n",
    "\n",
    "F#'s awesome pattern matching was a lifesaver here not only for it's ease of use but it's automatic ability to specify the failure cases. "
   ]
  },
  {
   "cell_type": "code",
   "execution_count": 4,
   "metadata": {},
   "outputs": [],
   "source": [
    "#!fsharp\n",
    "open System\n",
    "\n",
    "// Format: RVName [|Conditionals] ~ Distribution(Parameters) [: observed] \n",
    "// [] -> optional\n",
    "// NOTE: There can't be any spaces in the distribution parameters.\n",
    "let parseLineOfModel (lineInModel : string) : ParsedRandomVariable = \n",
    " \n",
    "    // Helper fn to split the string based on a variety of type of delimiters.\n",
    "    // Resultant type is a list of strings to feed in for the pattern matching.\n",
    "    let splitToList (toSplit : string) (delimiters : obj) : string list = \n",
    "        let split = \n",
    "            match delimiters with\n",
    "            | :? string        as s   -> toSplit.Split(s, StringSplitOptions.RemoveEmptyEntries) \n",
    "            | :? array<string> as arr -> toSplit.Split(arr, StringSplitOptions.RemoveEmptyEntries) \n",
    "            | :? array<char>   as arr -> toSplit.Split(arr, StringSplitOptions.RemoveEmptyEntries) \n",
    "            | _ -> failwithf \"Splitting based on delimiters failed as it is neither a string nor an array of strings: Of Type: %A - %A\" (delimiters.GetType()) toSplit\n",
    "        \n",
    "        Array.toList split\n",
    "\n",
    "    match splitToList lineInModel \" \" with\n",
    "    | nameAndConditionals :: \"~\" :: distributionParametersObserved ->\n",
    "        // Get the name and conditionals.\n",
    "        let splitNameAndConditionals = splitToList nameAndConditionals \"|\"\n",
    "        let name = splitNameAndConditionals.[0]\n",
    "        let conditionals = \n",
    "            match splitNameAndConditionals with \n",
    "            | name :: conditionals -> \n",
    "                if conditionals.Length > 0 then splitToList conditionals.[0] \",\"\n",
    "                else []\n",
    "            | _ -> failwithf \"Pattern not found for RV Name and Conditionals - the format is: RVName|Condtionals: %A\" splitNameAndConditionals\n",
    "\n",
    "        let extractAndGetParameters (distributionNameAndParameters : string) : string * string list = \n",
    "            let splitDistributionAndParameters = splitToList distributionNameAndParameters [| \"(\"; \")\" |]\n",
    "            (splitDistributionAndParameters.[0], splitToList splitDistributionAndParameters.[1] \",\")\n",
    "            \n",
    "        match distributionParametersObserved with \n",
    "\n",
    "        // Case: Without Observations. Example: θ ~ Gamma(a,b)\n",
    "        | distributionNameAndParameters when distributionNameAndParameters.Length = 1 ->\n",
    "            let extractedDistributionAndParameters = extractAndGetParameters distributionNameAndParameters.[0]\n",
    "            { Name             = name; \n",
    "              Conditionals     = conditionals; \n",
    "              Distribution     = (fst extractedDistributionAndParameters).ToLower();\n",
    "              Observed         = None; \n",
    "              Parameters       = snd extractedDistributionAndParameters; }\n",
    "\n",
    "        // Case: With Observations. Example: Y|θ ~ Poisson(θ) : observed\n",
    "        | distributionNameAndParameters :: \":\" :: observed ->\n",
    "            let extractedDistributionAndParameters = extractAndGetParameters distributionNameAndParameters\n",
    "            { Name             = name;\n",
    "              Conditionals     = conditionals; \n",
    "              Distribution     = (fst extractedDistributionAndParameters).ToLower();\n",
    "              Observed         = Some observed.Head; // Only 1 observed list permitted.\n",
    "              Parameters       = snd extractedDistributionAndParameters; } \n",
    "\n",
    "        // Case: Error.\n",
    "        | _ -> failwithf \"Pattern not found for the model while parsing the distribution, parameters and optionally, the observed variables: %A\" distributionParametersObserved \n",
    "\n",
    "    | _ -> failwithf \"Pattern not found for the following line in the model - please check the syntax: %A\" lineInModel\n",
    "\n",
    "let parseModel (model : string) : ParsedBayesianModel = \n",
    "    model.Split('\\n') \n",
    "    |> Array.map(parseLineOfModel)\n",
    "    |> Array.toList\n",
    "\n",
    "let printParsedModel (model : string) : unit = \n",
    "    let parsedModel = parseModel model\n",
    "    printfn \"Model: %A is represented as %A\" model parsedModel"
   ]
  },
  {
   "cell_type": "markdown",
   "metadata": {},
   "source": [
    "#### Examples of Parsing a User-Specified DSL"
   ]
  },
  {
   "cell_type": "code",
   "execution_count": 7,
   "metadata": {},
   "outputs": [
    {
     "name": "stdout",
     "output_type": "stream",
     "text": [
      "Model: \"θ ~ Gamma(a,b)\n",
      "              Y|θ ~ Poisson(θ) : observed\" is represented as [{ Name = \"θ\"\n",
      "   Conditionals = []\n",
      "   Distribution = \"gamma\"\n",
      "   Parameters = [\"a\"; \"b\"]\n",
      "   Observed = None }; { Name = \"Y\"\n",
      "                        Conditionals = [\"θ\"]\n",
      "                        Distribution = \"poisson\"\n",
      "                        Parameters = [\"θ\"]\n",
      "                        Observed = Some \"observed\" }]\n",
      "Model: \"θ ~ Beta(unit,unit)\n",
      "               γ ~ Gamma(a,b)\n",
      "               Y|θ,γ ~ Binomial(n,θ) : observed\" is represented as [{ Name = \"θ\"\n",
      "   Conditionals = []\n",
      "   Distribution = \"beta\"\n",
      "   Parameters = [\"unit\"; \"unit\"]\n",
      "   Observed = None }; { Name = \"γ\"\n",
      "                        Conditionals = []\n",
      "                        Distribution = \"gamma\"\n",
      "                        Parameters = [\"a\"; \"b\"]\n",
      "                        Observed = None }; { Name = \"Y\"\n",
      "                                             Conditionals = [\"θ\"; \"γ\"]\n",
      "                                             Distribution = \"binomial\"\n",
      "                                             Parameters = [\"n\"; \"θ\"]\n",
      "                                             Observed = Some \"observed\" }]\n"
     ]
    },
    {
     "data": {
      "text/html": [
       "<null>"
      ]
     },
     "execution_count": 7,
     "metadata": {},
     "output_type": "execute_result"
    }
   ],
   "source": [
    "// Print out our simple 1-Parameter Model.\n",
    "let model1 = @\"θ ~ Gamma(a,b)\n",
    "              Y|θ ~ Poisson(θ) : observed\"\n",
    "printParsedModel(model1)\n",
    "\n",
    "// This model doesn't make sense but adding to test multiple conditionals.\n",
    "let model2  = @\"θ ~ Beta(unit,unit)\n",
    "               γ ~ Gamma(a,b)\n",
    "               Y|θ,γ ~ Binomial(n,θ) : observed\"\n",
    "printParsedModel(model2)"
   ]
  },
  {
   "cell_type": "markdown",
   "metadata": {},
   "source": [
    "### Specifying the Parameters\n",
    "\n",
    "The idea is to decouple the parameters separate from the model and this is done by saving the details as a JSON string. This task is made simple using the ``Newtonsoft.Json`` library."
   ]
  },
  {
   "cell_type": "code",
   "execution_count": 6,
   "metadata": {},
   "outputs": [],
   "source": [
    "open System\n",
    "open System.Collections.Generic\n",
    "\n",
    "open MathNet.Numerics.Distributions\n",
    "\n",
    "open Newtonsoft.Json\n",
    "\n",
    "type Observed = float list\n",
    "\n",
    "type ParameterList = \n",
    "    { Observed : float list; Parameters : Dictionary<string, float> } \n",
    "\n",
    "let deserializeParameters (paramsAsString : string) : ParameterList = \n",
    "    JsonConvert.DeserializeObject<ParameterList>(paramsAsString)"
   ]
  },
  {
   "cell_type": "markdown",
   "metadata": {},
   "source": [
    "#### Examples of the Deserialization of the Parameters"
   ]
  },
  {
   "cell_type": "code",
   "execution_count": null,
   "metadata": {},
   "outputs": [],
   "source": [
    "// Parameter List 1\n",
    "let parameters1 = \"{Parameters : {μ0 : 0, σ0 : 1, μ : 5, σ : 2, λ : 4}, observed : [4.2,0.235,2.11]}\"\n",
    "let deserializedParameters1 = deserializeParameters parameters1\n",
    "printfn \"Deserialized Parameters 1: %A\" (deserializedParameters1)\n",
    "\n",
    "// Parameter List 2\n",
    "let parameters2 = \"{Parameters: {λ : 2}}\"\n",
    "let deserializedParameters2 = deserializeParameters parameters2\n",
    "// Applying the Deserialized Parameters to Sample from a Distribution\n",
    "let exp = Exponential deserializedParameters2.Parameters.[\"λ\"] \n",
    "printfn \"Sampling from the Exponential Distribution with the λ = %A parameter: %A\" exp (exp.Sample())"
   ]
  },
  {
   "cell_type": "markdown",
   "metadata": {},
   "source": [
    "# Converting the Parsed Model into a Bayesian Network\n",
    "\n",
    "![plan_section2](./Images/Plan_Section2.png)\n",
    "\n",
    "The goal is to take the parsed representations of the user-inputted model to convert to a directed acylic graph that represents a Bayesian Network so that the posterior distribution can be computed easily. \n",
    "\n",
    "The first step here is to map the string version of a distribution to be used "
   ]
  },
  {
   "cell_type": "markdown",
   "metadata": {},
   "source": [
    "### Distribution Mapping"
   ]
  },
  {
   "cell_type": "code",
   "execution_count": null,
   "metadata": {},
   "outputs": [],
   "source": [
    "#!fsharp\n",
    "open MathNet.Numerics.Distributions\n",
    "\n",
    "type DistributionType = \n",
    "    | Continuous\n",
    "    | Discrete\n",
    "\n",
    "type Parameter     = float\n",
    "type DiscreteInput = int\n",
    "type Input         = float\n",
    "\n",
    "type DensityType = \n",
    "    | OneParameter         of (Parameter * Input -> float) \n",
    "    | OneParameterDiscrete of (Parameter * DiscreteInput -> float)\n",
    "    | TwoParameter         of (Parameter * Parameter * Input -> float)\n",
    "\n",
    "type DistributionInfo = { RVName             : string\n",
    "                          DistributionType   : DistributionType \n",
    "                          DistributionName   : string \n",
    "                          Parameters         : float list\n",
    "                          Density            : DensityType } with\n",
    "                          \n",
    "    static member Create (item : ParsedRandomVariable) \n",
    "                         (parameterList : ParameterList) : DistributionInfo = \n",
    "    // I know this is ugly but this functionality assumes the user enters the \n",
    "    // parameters in the order that's expected by the MathNet Numerics Library. \n",
    "    // Grab the parameters associated with this Random Variable.\n",
    "    let rvParameters = \n",
    "        item.Parameters\n",
    "        |> List.filter(parameterList.Parameters.ContainsKey) \n",
    "        |> List.map(fun item -> parameterList.Parameters.[item])\n",
    "\n",
    "    // Extract Distribution Associated with the Parsed Random Variable.\n",
    "    match item.Distribution with\n",
    "\n",
    "    // 1 Parameter Distributions \n",
    "    | \"exponential\" -> \n",
    "        { RVName           = item.Name\n",
    "          DistributionName = item.Distribution\n",
    "          Parameters       = rvParameters\n",
    "          DistributionType = DistributionType.Continuous\n",
    "          Density          = OneParameter Exponential.PDF }\n",
    "    | \"poisson\" ->\n",
    "        { RVName           = item.Name\n",
    "          DistributionName = item.Distribution\n",
    "          Parameters       = rvParameters\n",
    "          DistributionType = DistributionType.Discrete\n",
    "          Density          = OneParameterDiscrete Poisson.PMF } \n",
    "    // 2 Parameter Distributions \n",
    "    | \"normal\" ->\n",
    "        { RVName           = item.Name\n",
    "          DistributionName = item.Distribution\n",
    "          Parameters       = rvParameters\n",
    "          DistributionType = DistributionType.Continuous\n",
    "          Density          = TwoParameter Normal.PDF }\n",
    "    | \"gamma\" ->\n",
    "        { RVName           = item.Name\n",
    "          DistributionName = item.Distribution\n",
    "          Parameters       = rvParameters\n",
    "          DistributionType = DistributionType.Continuous\n",
    "          Density          = TwoParameter Gamma.PDF }\n",
    "    | \"beta\" ->\n",
    "        { RVName           = item.Name\n",
    "          DistributionName = item.Distribution\n",
    "          Parameters       = rvParameters\n",
    "          DistributionType = DistributionType.Continuous\n",
    "          Density          = TwoParameter Beta.PDF }\n",
    "    | \"continuousuniform\" ->\n",
    "        { RVName           = item.Name\n",
    "          DistributionName = item.Distribution\n",
    "          Parameters       = rvParameters\n",
    "          DistributionType = DistributionType.Continuous\n",
    "          Density          = TwoParameter ContinuousUniform.PDF }\n",
    "    // Failure Case\n",
    "    | _ -> failwithf \"Distribution not registered: %A\" item.Distribution                      \n",
    "                          \n",
    "    member this.ComputeOneParameterPDF (parameter : float) (input : float) : float =\n",
    "        match this.Density with\n",
    "        | OneParameter pdf -> pdf(parameter,input)\n",
    "        | _ -> failwithf \"Incorrect usage of function with a non One Parameter Density Type. Density given: %A\" this.Density \n",
    "    member this.ComputeOneParameterDiscretePMF (parameter : float) (input : int) : float =\n",
    "        match this.Density with\n",
    "        | OneParameterDiscrete pmf -> pmf(parameter,input)\n",
    "        | _ -> failwithf \"Incorrect usage of function with a non One Parameter Discrete Density Type. Density given: %A\" this.Density \n",
    "    member this.ComputeTwoParameterPDF (parameter1 : float) (parameter2 : float) (input : float) : float =\n",
    "        match this.Density with\n",
    "        | TwoParameter pdf -> pdf(parameter1, parameter2, input)\n",
    "        | _ -> failwithf \"Incorrect usage of function with a non Two Parameter Density Type. Density given: %A\" this.Density"
   ]
  },
  {
   "cell_type": "markdown",
   "metadata": {},
   "source": [
    "### Helper Methods to get the Distributions from the User Specified DSL"
   ]
  },
  {
   "cell_type": "code",
   "execution_count": null,
   "metadata": {},
   "outputs": [],
   "source": [
    "let getDistributionInfoForModel(model : string) (parameterList : string) : DistributionInfo list = \n",
    "    let parsedModel   = parseModel model\n",
    "    let parameterList = deserializeParameters parameterList \n",
    "    parsedModel\n",
    "    |> List.map(fun x -> DistributionInfo.Create x parameterList)\n",
    "\n",
    "let getDensityOrProbabilityForModel (model : string) \n",
    "                                    (parameterList : string) \n",
    "                                    (data : float seq) : IDictionary<string, float seq> = \n",
    "    getDistributionInfoForModel model parameterList\n",
    "    |> List.map(fun (e : DistributionInfo) -> \n",
    "        match e.Density with\n",
    "        | OneParameter p ->\n",
    "            let param   = List.exactlyOne e.Parameters \n",
    "            let results = data |> Seq.map(fun d -> e.ComputeOneParameterPDF param d)\n",
    "            e.RVName, results\n",
    "        | OneParameterDiscrete p ->\n",
    "            let param   = List.exactlyOne e.Parameters \n",
    "            let results = data |> Seq.map(fun d -> e.ComputeOneParameterDiscretePMF param (int d))\n",
    "            e.RVName, results\n",
    "        | TwoParameter p ->\n",
    "            let p2 : float list = e.Parameters |> List.take 2\n",
    "            let results = data |> Seq.map(fun d -> e.ComputeTwoParameterPDF p2.[0] p2.[1] d)\n",
    "            e.RVName, results)\n",
    "    |> dict"
   ]
  },
  {
   "cell_type": "markdown",
   "metadata": {},
   "source": [
    "#### Testing the Distribution Mapping Logic"
   ]
  },
  {
   "cell_type": "code",
   "execution_count": null,
   "metadata": {},
   "outputs": [],
   "source": [
    "#!fsharp\n",
    "\n",
    "// Exponential. \n",
    "let exponentialModel     = \"x ~ Exponential(lambda)\"\n",
    "let exponentialParamList = \"{Parameters: {lambda : 2, a : 2., b : 2.3}, Observed : []}\"\n",
    "let exponentialDummyData = ContinuousUniform.Samples(0., 200.) |> Seq.take 2000\n",
    "let exponentialPdfs      = getDensityOrProbabilityForModel exponentialModel exponentialParamList exponentialDummyData\n",
    "printfn \"Exponential: %A\" (exponentialPdfs.Values)\n",
    "\n",
    "// Normal.\n",
    "let normalModel     = \"x ~ Normal(mu,sigma)\"\n",
    "let normalParamList = \"{Parameters: {mu: 0., sigma : 1.}, Observed : []}\"\n",
    "let normalDummyData = Normal.Samples(0.0, 1.0) |> Seq.take 2000\n",
    "let normalPdfs      = getDensityOrProbabilityForModel normalModel normalParamList normalDummyData \n",
    "printfn \"Normal: %A\" (normalPdfs.Values)\n",
    "\n",
    "// Poisson.\n",
    "let poissonModel     = \"x ~ Poisson(theta)\"\n",
    "let poissonParamList = \"{Parameters: {theta: 44}, Observed : []}\"\n",
    "let poissonDummyData = ContinuousUniform.Samples(0., 5.) |> Seq.take 2000 \n",
    "let poissonPdfs      = getDensityOrProbabilityForModel poissonModel poissonParamList poissonDummyData \n",
    "printfn \"Poisson: %A\" (poissonPdfs.Values)"
   ]
  },
  {
   "cell_type": "markdown",
   "metadata": {},
   "source": [
    "### Bayesian Node"
   ]
  },
  {
   "cell_type": "code",
   "execution_count": null,
   "metadata": {},
   "outputs": [],
   "source": [
    "#!fsharp\n",
    "type BayesianNodeTypeInfo =\n",
    "| Observed of float list \n",
    "| NonObserved\n",
    "\n",
    "type BayesianNode = \n",
    "    { Name                 : string\n",
    "      NodeType             : BayesianNodeTypeInfo \n",
    "      DistributionInfo     : DistributionInfo\n",
    "      ParsedRandomVariable : ParsedRandomVariable } with\n",
    "\n",
    "    static member ConstructNode(parsedRandomVariable : ParsedRandomVariable)\n",
    "                               (parameterList : ParameterList) =\n",
    "\n",
    "        let nodeType : BayesianNodeTypeInfo =\n",
    "            match parsedRandomVariable.Observed with\n",
    "            | Some _ -> BayesianNodeTypeInfo.Observed parameterList.Observed\n",
    "            | None   -> BayesianNodeTypeInfo.NonObserved\n",
    "        { Name                 = parsedRandomVariable.Name;\n",
    "          NodeType             = nodeType;\n",
    "          DistributionInfo     = DistributionInfo.Create parsedRandomVariable parameterList;\n",
    "          ParsedRandomVariable = parsedRandomVariable; }\n",
    "\n",
    "    member this.GetDependents (parsedBayesianModel : ParsedBayesianModel) : ParsedRandomVariable list =\n",
    "        parsedBayesianModel \n",
    "        |> List.filter(fun x -> x.Conditionals |> List.contains(this.Name))"
   ]
  },
  {
   "cell_type": "markdown",
   "metadata": {},
   "source": [
    "#### Construct a Node"
   ]
  },
  {
   "cell_type": "code",
   "execution_count": null,
   "metadata": {},
   "outputs": [],
   "source": [
    "#!fsharp\n",
    "let lineOfModel        = @\"x ~ Exponential(lambda) : observed\"\n",
    "let paramList          = \"{Parameters: {lambda : 2, a : 2., b : 2.3 }, observed : [1,2,3,55]}\"\n",
    "BayesianNode.ConstructNode (parseLineOfModel lineOfModel) (deserializeParameters paramList)"
   ]
  },
  {
   "cell_type": "markdown",
   "metadata": {},
   "source": [
    "### The Simple Bayesian Network"
   ]
  },
  {
   "cell_type": "code",
   "execution_count": null,
   "metadata": {},
   "outputs": [],
   "source": [
    "#!fsharp\n",
    "// Only to be used for a model with 2 nodes \n",
    "// i.e. one for the prior and one for the likelihood.\n",
    "type SimpleBayesianNetworkModel = \n",
    "  { Name       : string\n",
    "    Nodes      : IDictionary<string, BayesianNode>\n",
    "    Prior      : BayesianNode\n",
    "    Likelihood : BayesianNode } with\n",
    "\n",
    "    member this.GetPriorProbability (input : float) : float = \n",
    "      let distributionInfo = this.Prior.DistributionInfo \n",
    "      match distributionInfo.Density with\n",
    "      | OneParameter p ->\n",
    "          let param = List.exactlyOne distributionInfo.Parameters \n",
    "          distributionInfo.ComputeOneParameterPDF param input \n",
    "      | OneParameterDiscrete p ->\n",
    "          let param   = List.exactlyOne distributionInfo.Parameters \n",
    "          distributionInfo.ComputeOneParameterDiscretePMF param (int input)\n",
    "      | TwoParameter p ->\n",
    "          let p2 : float list = distributionInfo.Parameters |> List.take 2\n",
    "          distributionInfo.ComputeTwoParameterPDF p2.[0] p2.[1] input\n",
    "\n",
    "    member this.GetLikelihoodProbability (prior : float) : float = \n",
    "        let distributionInfo = this.Likelihood.DistributionInfo\n",
    "        let observed         = match this.Likelihood.NodeType with\n",
    "                               | Observed l -> l\n",
    "                               | _ -> failwithf \"Incorrectly constructed Simple Network Model. %A\" this \n",
    "        let density = \n",
    "          match distributionInfo.Density with\n",
    "          | OneParameter p -> \n",
    "              observed |> List.map(fun d -> distributionInfo.ComputeOneParameterPDF prior d)\n",
    "          | OneParameterDiscrete p ->\n",
    "              observed |> List.map(fun d -> distributionInfo.ComputeOneParameterDiscretePMF prior (int (Math.Ceiling d)))\n",
    "          | TwoParameter p ->\n",
    "              let p : float = distributionInfo.Parameters |> List.exactlyOne \n",
    "              observed |> List.map(fun d -> distributionInfo.ComputeTwoParameterPDF prior p d)\n",
    "        density\n",
    "        |> List.fold (*) 1.0\n",
    "\n",
    "    member this.GetPosteriorWithoutScalingFactor (input: float) (printDebug: bool) : float = \n",
    "      let priorPdf      = this.GetPriorProbability input \n",
    "      let likelihoodPdf = this.GetLikelihoodProbability priorPdf\n",
    "      if printDebug then\n",
    "          printfn \"Prior: %A | Likelihood: %A\" priorPdf likelihoodPdf\n",
    "      priorPdf * likelihoodPdf\n",
    "\n",
    "    static member ConstructModel (name : string)\n",
    "                                 (model : ParsedBayesianModel)\n",
    "                                 (parameterList : ParameterList) : SimpleBayesianNetworkModel = \n",
    "\n",
    "        // Construct all the modes of the model.\n",
    "        let allNodes : (string * BayesianNode) list =\n",
    "            model\n",
    "            |> List.map(fun m -> m.Name, BayesianNode.ConstructNode m parameterList)\n",
    "\n",
    "        let prior : BayesianNode =  \n",
    "            allNodes\n",
    "            |> List.filter(fun (_,m) -> m.NodeType = BayesianNodeTypeInfo.NonObserved) \n",
    "            |> List.map(fun (_,m) -> m)\n",
    "            |> List.exactlyOne\n",
    "\n",
    "        let likelihood : BayesianNode =  \n",
    "            allNodes\n",
    "            |> List.filter(fun (_,m) -> m.NodeType <> BayesianNodeTypeInfo.NonObserved)\n",
    "            |> List.map(fun (_,m) -> m)\n",
    "            |> List.exactlyOne\n",
    "\n",
    "        { Name       = name; \n",
    "          Nodes      = dict allNodes; \n",
    "          Prior      = prior;\n",
    "          Likelihood = likelihood; } "
   ]
  },
  {
   "cell_type": "markdown",
   "metadata": {},
   "source": [
    "#### Example of Creating a Simple Bayesian Network"
   ]
  },
  {
   "cell_type": "code",
   "execution_count": null,
   "metadata": {},
   "outputs": [],
   "source": [
    "#!fsharp\n",
    "let model = @\"x ~ Normal(μ,τ) \n",
    "              y|x ~ Normal(x,σ) : observed\"\n",
    "let parsedModel = parseModel model\n",
    "let paramList = \"{Parameters: {μ : 5, τ : 3.1622, σ : 1}, observed : [9.37,10.18,9.16,11.60,10.33]}\"\n",
    "let normalModel = \n",
    "    SimpleBayesianNetworkModel.ConstructModel \"Normal-Normal\" parsedModel (deserializeParameters paramList)\n",
    "normalModel"
   ]
  },
  {
   "cell_type": "markdown",
   "metadata": {},
   "source": [
    "#### Debugging the Prior and Likelihood"
   ]
  },
  {
   "cell_type": "code",
   "execution_count": null,
   "metadata": {},
   "outputs": [],
   "source": [
    "#!fsharp\n",
    "let model = @\"x ~ Normal(μ,τ) \n",
    "              y|x ~ Normal(x,σ) : observed\"\n",
    "let parsedModel = parseModel model\n",
    "let paramList = \"{Parameters: {μ : 5, τ : 3.1622, σ : 1}, observed : [9.37,10.18,9.16,11.60,10.33]}\"\n",
    "let normalModel = \n",
    "    SimpleBayesianNetworkModel.ConstructModel \"Normal-Normal\" parsedModel (deserializeParameters paramList)\n",
    "    \n",
    "// Prior Check\n",
    "let priorFromModel = normalModel.GetPriorProbability 0.0\n",
    "let computedPrior  = Normal.PDF(5., 3.1622, 0.0)\n",
    "printfn \"Normal Model Prior: %A | Prior from formula: %A\" priorFromModel computedPrior\n",
    "\n",
    "// Likelihood Check\n",
    "let likelihoodFromModel = normalModel.GetLikelihoodProbability 0.0\n",
    "let observed : float list = \n",
    "    match normalModel.Likelihood.NodeType with\n",
    "    | Observed (o: float list) -> o\n",
    "    | _ -> failwithf \"Incorrectly constructed Likelihood\"\n",
    "    \n",
    "let likelihoodFromFormula : float list = observed |> List.map(fun (o:float) -> Normal.PDF(computedPrior, 1., o))\n",
    "printfn \"%A\" likelihoodFromFormula\n",
    "\n",
    "printfn \"Normal Model Likelihood: %A | Likelihood from formula: %A\" (normalModel.GetLikelihoodProbability 0.03614314702) "
   ]
  },
  {
   "cell_type": "markdown",
   "metadata": {},
   "source": [
    "# Applying the Symmetric Metropolis Hastings Algorithm to Approximate the Posterior Distribution\n",
    "\n",
    "![plan_section3](./Images/Plan_Section3.png)"
   ]
  },
  {
   "cell_type": "markdown",
   "metadata": {},
   "source": [
    "### MCMC Domain"
   ]
  },
  {
   "cell_type": "code",
   "execution_count": null,
   "metadata": {},
   "outputs": [],
   "source": [
    "#!fsharp\n",
    "type ConvergenceCriteria = \n",
    "    | IterativeConvergence of int\n",
    "\n",
    "type ProposalDistribution =\n",
    "    | Normal of float  // Normal( current, delta )\n",
    "    | ContinuousUniform of float // ContinuousUniform( current - delta, current + delta )\n",
    "    | PositiveContinuousUniform of float // ( x ~ Uniform( current - delta, current + delta ) if x <= 0 then 0.1 else x )\n",
    "\n",
    "type MCMCInferenceStep = \n",
    "    | SymmetricMetropolisHastings of ProposalDistribution * float\n",
    "\n",
    "type MCMCChain =\n",
    "    { Id             : int\n",
    "      AcceptanceRate : float\n",
    "      StepValues     : float seq }\n",
    "\n",
    "type MCMCRequest = \n",
    "    { StepFunction         : MCMCInferenceStep\n",
    "      ConvergenceCriteria  : ConvergenceCriteria\n",
    "      BurnInIterationsPct  : float \n",
    "      Chains               : int \n",
    "      PrintDebug           : bool }\n",
    "\n",
    "type MCMCResult =\n",
    "    { Chains         : MCMCChain seq \n",
    "      MCMCRequest    : MCMCRequest }"
   ]
  },
  {
   "cell_type": "markdown",
   "metadata": {},
   "source": [
    "### The Symmetric Metropolis Hastings Algorithm"
   ]
  },
  {
   "cell_type": "code",
   "execution_count": null,
   "metadata": {},
   "outputs": [],
   "source": [
    "#!fsharp\n",
    "open System\n",
    "open MathNet.Numerics.Distributions\n",
    "open XPlot.Plotly\n",
    "\n",
    "type AcceptanceRejection =\n",
    "    | Acceptance of float\n",
    "    | Rejection  of float \n",
    "\n",
    "let doSymmetricMetropolisHastings (request : MCMCRequest) \n",
    "                                  (iterations : int)\n",
    "                                  (proposalDistribution : ProposalDistribution)\n",
    "                                  (initialValue : float)\n",
    "                                  (simpleBayesianModel : SimpleBayesianNetworkModel) : MCMCResult =\n",
    "\n",
    "    let getChain (id : int) (request : MCMCRequest) \n",
    "                 (iterations : int) (simpleBayesianModel : SimpleBayesianNetworkModel) : MCMCChain =\n",
    "\n",
    "        let burnin         = int (Math.Ceiling(request.BurnInIterationsPct / 100. * float iterations))\n",
    "        let zeroOneUniform = ContinuousUniform()\n",
    "\n",
    "        let mutable current = simpleBayesianModel.GetPosteriorWithoutScalingFactor initialValue request.PrintDebug\n",
    "\n",
    "        let matchedProposalDistribution (input : float) :  float =\n",
    "            match proposalDistribution with \n",
    "            | Normal delta            -> Normal(input, delta).Sample()\n",
    "            | ContinuousUniform delta -> ContinuousUniform(input - delta, input + delta).Sample()\n",
    "            | PositiveContinousUniform delta -> \n",
    "                let u = ContinuousUniform(input - delta, input + delta).Sample()\n",
    "                if u <= 0. then input + 0.1 else u\n",
    "\n",
    "        let step (iteration : int) : AcceptanceRejection =\n",
    "            let proposed           = matchedProposalDistribution current\n",
    "            let currentProbability = simpleBayesianModel.GetPosteriorWithoutScalingFactor current request.PrintDebug\n",
    "            let proposedProbabilty = simpleBayesianModel.GetPosteriorWithoutScalingFactor proposed request.PrintDebug\n",
    "            let acceptanceRatio    = Math.Min(currentProbability / proposedProbabilty, 1.)\n",
    "            let uniformDraw        = zeroOneUniform.Sample()\n",
    "\n",
    "            if request.PrintDebug then \n",
    "                printfn \"Chain: %A Iteration: %A - Current Probability: %A | Proposed Probability: %A | AcceptanceRatio: %A | Uniform Draw: %A | Current: %A | Proposed: %A\" \n",
    "                    id iteration currentProbability proposedProbabilty acceptanceRatio uniformDraw current proposed\n",
    "\n",
    "            if uniformDraw < acceptanceRatio then (current <- proposed; Acceptance proposed) \n",
    "            else Rejection current\n",
    "    \n",
    "        let stepResults : AcceptanceRejection seq =\n",
    "            seq {1..iterations}\n",
    "            |> Seq.map step\n",
    "            |> Seq.skip burnin\n",
    "\n",
    "        let getAcceptanceRateAndStepValues : float * float seq =\n",
    "\n",
    "            // Compute the Acceptance Rate.\n",
    "            let acceptanceRate : float = \n",
    "                let totalBurninWithoutBurnin : float = float (Seq.length stepResults)\n",
    "                let totalNumberOfAcceptances : float = \n",
    "                    stepResults \n",
    "                    |> Seq.filter(fun x -> \n",
    "                        match x with\n",
    "                        | Acceptance x -> true\n",
    "                        | _ -> false)\n",
    "                    |> Seq.length\n",
    "                    |> float\n",
    "                totalNumberOfAcceptances / totalBurninWithoutBurnin\n",
    "\n",
    "            // Grab the Step Values that'll approximate the posterior.\n",
    "            let stepValues =\n",
    "                stepResults |> Seq.map(fun s ->\n",
    "                    match s with\n",
    "                    | Acceptance v -> v\n",
    "                    | Rejection v -> v)\n",
    "\n",
    "            acceptanceRate, stepValues\n",
    "\n",
    "        let acceptanceRate, stepValues = getAcceptanceRateAndStepValues \n",
    "\n",
    "        { Id             = id\n",
    "          AcceptanceRate = acceptanceRate\n",
    "          StepValues     = stepValues} \n",
    "\n",
    "    let chains : MCMCChain seq =\n",
    "        seq {1..request.Chains}\n",
    "        |> Seq.map(fun id ->  getChain id request iterations simpleBayesianModel)\n",
    "\n",
    "    { Chains      = chains\n",
    "      MCMCRequest =  request }"
   ]
  },
  {
   "cell_type": "markdown",
   "metadata": {},
   "source": [
    "### Running the Algorithm"
   ]
  },
  {
   "cell_type": "code",
   "execution_count": null,
   "metadata": {},
   "outputs": [],
   "source": [
    "let runMCMC (request : MCMCRequest) \n",
    "            (model : SimpleBayesianNetworkModel) : MCMCResult =\n",
    "    match request.StepFunction with\n",
    "    | SymmetricMetropolisHastings (proposalDistribution,initialValue) ->\n",
    "        match request.ConvergenceCriteria with \n",
    "        | IterativeConvergence iterations -> \n",
    "            doSymmetricMetropolisHastings request iterations proposalDistribution initialValue model\n",
    "        | _ -> failwith \"You need to pass in the number of iterations for the Metropolis-Hastings algorithm\"\n",
    "    | _ -> failwithf \"Step Function Not Registered: %A\" request.StepFunction"
   ]
  },
  {
   "cell_type": "markdown",
   "metadata": {},
   "source": [
    "### Tieing it All Together"
   ]
  },
  {
   "cell_type": "markdown",
   "metadata": {},
   "source": [
    "#### Exponential Prior and Exponential Likelihood"
   ]
  },
  {
   "cell_type": "code",
   "execution_count": null,
   "metadata": {},
   "outputs": [],
   "source": [
    "let model = @\"x ~ Exponential(a) \n",
    "              y|x ~ Exponential(x) : observed\"\n",
    "let parsedModel = parseModel model\n",
    "let paramList = \"{Parameters: {a : 2., b : 2.}, observed : [1,2,3,4,4,2,5,6,7,3,2,3,4,5,6,1,2,3,4,4,4,4]}\"\n",
    "let simpleModel = SimpleBayesianNetworkModel.ConstructModel \"Exponential Model\" parsedModel (deserializeParameters paramList)\n",
    "\n",
    "let request : MCMCRequest = \n",
    "    { StepFunction        = SymmetricMetropolisHastings (ProposalDistribution.PositiveContinousUniform 0.002, 0.001)\n",
    "      ConvergenceCriteria = IterativeConvergence 10000\n",
    "      BurnInIterationsPct = 0.2\n",
    "      PrintDebug          = false \n",
    "      Chains              = 4 }\n",
    "\n",
    "let mcmc       = runMCMC request simpleModel\n",
    "let firstChain = Seq.head mcmc.Chains\n",
    "\n",
    "Histogram(x = firstChain.StepValues)\n",
    "|> Chart.Plot\n",
    "|> Chart.WithTitle \"Exponential Prior and Likelihood = Exponential Posterior\""
   ]
  },
  {
   "cell_type": "markdown",
   "metadata": {},
   "source": [
    "#### Real Life Example: Normal Prior and Normal Likelihood"
   ]
  },
  {
   "cell_type": "code",
   "execution_count": 8,
   "metadata": {},
   "outputs": [
    {
     "ename": "Unhandled Exception",
     "evalue": "input.fsx (7,5)-(7,31) typecheck error The value, namespace, type or module 'SimpleBayesianNetworkModel' is not defined.\ninput.fsx (10,15)-(10,26) typecheck error The type 'MCMCRequest' is not defined.\ninput.fsx (11,7)-(11,19) typecheck error The record label 'StepFunction' is not defined.\ninput.fsx (17,18)-(17,25) typecheck error The value or constructor 'runMCMC' is not defined. Maybe you want one of the following:\n   Rune\ninput.fsx (18,27)-(18,38) typecheck error Lookup on object of indeterminate type based on information prior to this program point. A type annotation may be needed prior to this program point to constrain the type of the object. This may allow the lookup to be resolved.\ninput.fsx (20,31)-(20,56) typecheck error Lookup on object of indeterminate type based on information prior to this program point. A type annotation may be needed prior to this program point to constrain the type of the object. This may allow the lookup to be resolved.\ninput.fsx (21,15)-(21,36) typecheck error Lookup on object of indeterminate type based on information prior to this program point. A type annotation may be needed prior to this program point to constrain the type of the object. This may allow the lookup to be resolved.",
     "output_type": "error",
     "traceback": [
      "input.fsx (7,5)-(7,31) typecheck error The value, namespace, type or module 'SimpleBayesianNetworkModel' is not defined.\ninput.fsx (10,15)-(10,26) typecheck error The type 'MCMCRequest' is not defined.\ninput.fsx (11,7)-(11,19) typecheck error The record label 'StepFunction' is not defined.\ninput.fsx (17,18)-(17,25) typecheck error The value or constructor 'runMCMC' is not defined. Maybe you want one of the following:\n   Rune\ninput.fsx (18,27)-(18,38) typecheck error Lookup on object of indeterminate type based on information prior to this program point. A type annotation may be needed prior to this program point to constrain the type of the object. This may allow the lookup to be resolved.\ninput.fsx (20,31)-(20,56) typecheck error Lookup on object of indeterminate type based on information prior to this program point. A type annotation may be needed prior to this program point to constrain the type of the object. This may allow the lookup to be resolved.\ninput.fsx (21,15)-(21,36) typecheck error Lookup on object of indeterminate type based on information prior to this program point. A type annotation may be needed prior to this program point to constrain the type of the object. This may allow the lookup to be resolved."
     ]
    }
   ],
   "source": [
    "#!fsharp\n",
    "let model = @\"x ~ Normal(μ,τ) \n",
    "              y|x ~ Exponential(x) : observed\"\n",
    "let parsedModel = parseModel model\n",
    "let paramList = \"{Parameters: {μ : 5, τ : 3.1622, σ : 1}, observed : [9.37,10.18,9.16,11.60,10.33]}\"\n",
    "let simpleModel = \n",
    "    SimpleBayesianNetworkModel.ConstructModel \"Normal-Exponential\" parsedModel (deserializeParameters paramList)\n",
    "\n",
    "\n",
    "let request : MCMCRequest = \n",
    "    { StepFunction        = SymmetricMetropolisHastings (ProposalDistribution.PositiveContinousUniform 0.0003, 0.0001)\n",
    "      ConvergenceCriteria = IterativeConvergence 5000\n",
    "      BurnInIterationsPct = 0.2\n",
    "      PrintDebug          = false \n",
    "      Chains              = 4 }\n",
    "\n",
    "let mcmc       = runMCMC request simpleModel\n",
    "let firstChain = Seq.head mcmc.Chains\n",
    "\n",
    "printfn \"Acceptance Rate: %A\" firstChain.AcceptanceRate\n",
    "Histogram(x = firstChain.StepValues)\n",
    "|> Chart.Plot\n",
    "|> Chart.WithTitle \"Normal\"\n",
    "|> Chart.WithWidth 700\n",
    "|> Chart.WithHeight 500"
   ]
  },
  {
   "cell_type": "markdown",
   "metadata": {},
   "source": [
    "## Conclusion\n",
    "\n",
    "This submission took a lot of work and is a product of two months of going down a Bayesian rabbit hole. Since I think I have built a relatively strong base, I will continue to build on top of this. As an obvious disclaimer, none of this code should be used in production - some of it is untested and might have bugs that weren't apparent to me while writing this. Also, please let me know if you find any mistakes! I'll be happy to learn from them and fix up this notebook.\n",
    "\n",
    "Thanks to the organizers of FSharp-Advent and Happy Holidays to all!"
   ]
  },
  {
   "cell_type": "markdown",
   "metadata": {},
   "source": [
    "# Lessons and Prospective Improvements"
   ]
  },
  {
   "cell_type": "markdown",
   "metadata": {},
   "source": [
    "## Lessons\n",
    "\n",
    "### Debugging an Iterative Algorithm Can Be Challenging\n",
    "\n",
    "### Tooling And Workflow is of Paramount Importance\n",
    "\n",
    "### Prototyping Helps With Creating Modular Functions"
   ]
  },
  {
   "cell_type": "markdown",
   "metadata": {},
   "source": [
    "## Improvements\n",
    "\n",
    "### Better Parameterization\n",
    "\n",
    "### More Generalized Bayesian Network\n",
    "\n",
    "### More Efficient MCMC Methods"
   ]
  },
  {
   "cell_type": "markdown",
   "metadata": {},
   "source": [
    "## References"
   ]
  },
  {
   "cell_type": "code",
   "execution_count": null,
   "metadata": {},
   "outputs": [],
   "source": []
  },
  {
   "cell_type": "markdown",
   "metadata": {},
   "source": [
    "## Music Listened to While Working On This Project\n",
    "\n",
    "1. [John Zorn and Friends](https://www.youtube.com/watch?v=c4eO2o9u1j0&ab_channel=podgoryt)\n",
    "2. [Mike Patton and Mondo Cane](https://www.youtube.com/watch?v=iDOl5q7UXfg&ab_channel=FNM4EVER2)\n",
    "3. [Burt Bacharach - This Guy's In Love with you](https://www.youtube.com/watch?v=2dDGnl8_Dzg&ab_channel=MusicWonders )\n",
    "4. [Melvins - Lysol](https://www.youtube.com/watch?v=JtO_Awk4pqU&ab_channel=AboveDeath)\n",
    "5. [The Jesus Lizard - Puss](https://www.youtube.com/watch?v=PaBJQG6A9SQ&ab_channel=spycory1)\n",
    "6. [Mr. Bungle - Sudden Death](https://www.youtube.com/watch?v=-QWFV_057KM&ab_channel=IpecacRecordings)\n",
    "7. [Madreblu - Certamente](https://www.youtube.com/watch?v=Ivh0FWTSJ78&ab_channel=Milano2000Records)\n",
    "8. [Pato Banton - Spirits in the Material World](https://www.youtube.com/watch?v=S--kTyvm_fM&ab_channel=PatoBanton%26TheReggaeRevolution-Topic)\n",
    "9. [Max Cooper - Ripple](https://www.youtube.com/watch?v=P_X1KGCgWlE&ab_channel=MaxCooper-Topic)\n",
    "10. [The Sword - Cheap Sunglasses](https://www.youtube.com/watch?v=RYnTLIZkjlg&ab_channel=SwordofDoomMusic)\n",
    "11. [Brother Dege - Too Old To Die Young](https://www.youtube.com/watch?v=FQNFcYvILJE&ab_channel=UltimatePowa)\n",
    "12. [Mr. Bungle - Retrovertigo](https://www.youtube.com/watch?v=DRyh2cxJCp0&ab_channel=tkan)"
   ]
  }
 ],
 "metadata": {
  "kernelspec": {
   "display_name": ".NET (F#)",
   "language": "F#",
   "name": ".net-fsharp"
  },
  "language_info": {
   "file_extension": ".fs",
   "mimetype": "text/x-fsharp",
   "name": "C#",
   "pygments_lexer": "fsharp",
   "version": "4.5"
  }
 },
 "nbformat": 4,
 "nbformat_minor": 4
}
