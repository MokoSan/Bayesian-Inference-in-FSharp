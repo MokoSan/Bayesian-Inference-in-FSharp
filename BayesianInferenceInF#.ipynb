{
 "cells": [
  {
   "cell_type": "markdown",
   "metadata": {},
   "source": [
    "# Bayesian Inference in FSharp\n",
    "\n",
    "\n",
    "## Introduction\n",
    "\n",
    "For my F# Advent submission this year, I decided to implement an extremely simple Bayesian Statistical Framework to be used for inference. The purpose of statistical inference is to infer characteristics of a population via samples to be used for further tasks such as making predictions. The \"Bayesian\" prefix refers to making use of the Bayes Theorem to conduct inferential statistics.\n",
    "\n",
    "![image.png](./Images/StatisticalInference.png)\n",
    "\n",
    "I like to think of Statistical Inference via a pasta boiling analogy: hypothetically, assume you lose the cooking instructions of dried pasta you are trying to cook. You start boiling the water and don't know when the pasta is al-dente. One way to check is to careful remove a single piece and test if it is cooked to your liking. Through this process, you'll know right away if the pasta needs to cook more or is ready to be sauce'd up. Similarly, inference deals with trying to figure out characteristics (__is the pasta ready?__) of a population (__all the pasta__) via a sample (__a single piece of pasta__).\n",
    "\n",
    "![image.png](./Images/pasta.jpg)\n",
    "\n",
    "F#, as a language, didn't fail to deliver an awesome development experience! The particular aspects of the language that made it easy to develop a Bayesian Statistical Framework are [Pattern Matching](https://docs.microsoft.com/en-us/dotnet/fsharp/language-reference/pattern-matching), [Functional Domain Drive Design](\n",
    "\n",
    "## Motivation\n",
    "\n",
    "I recently received a Masters in Data Science but discovered that none of my courses dove deep into Bayesian Statistics. Therefore, motivated by a penchant desire to fully understand the differences between frequentist approaches and Bayesian ones to eventually gain an understanding of Bayesian Neural Networks was the impetus behind trying to understand the statistical theory. \n",
    "\n",
    "While reading  [\"A First Course in Bayesian Statistical Methods\"](https://www.amazon.com/Bayesian-Statistical-Methods-Springer-Statistics/dp/1441928286/ref=sr_1_2?crid=3D7COZ06U9AU1&dchild=1&keywords=a+first+course+in+bayesian+statistical+methods&qid=1608705310&sprefix=A+first+course+in+baye%2Caps%2C239&sr=8-2) by Peter Hoff (highly recommend this book to those with a strong mathematical background), I discovered [pymc3](https://docs.pymc.io/), a Probabilistic Programming library in Python. Pymc3, in my opinion, has some great abstractions that I wanted to implement myself in a functional-first setting. \n",
    "\n",
    "The best way to learn a new statistical algorithm is my implementing it and the best way to learn something well is to teach it to others and hence, this submission is a result of that ideology. \n",
    "\n",
    "## Bayes Theorem\n",
    "\n",
    "The crux of Bayesian Inference lies in making use of the Bayes Theorem whose formula is the following:\n",
    "\n",
    "$p(\\theta \\mid y) = \\frac{p(y \\mid \\theta) p(\\theta)}{p(y)}$\n",
    "\n",
    "| Term           | Formula | Definition  |\n",
    "| :------------- | :----------: | -----------: |\n",
    "|  Prior         |  $p(\\theta)$  | Quantification of t   |  |\n",
    "| Likelihood     | $p(y \\mid \\theta)$ | In light of observations,  | | |\n",
    "| Evidence       | $p(y)$ | The normalizing constant so that the probability is between 0 and 1. |\n",
    "| Posterior      | $p(\\theta \\mid y)$ |  | | |\n",
    "\n",
    "The premise of the interpretation of Bayes Theorem that resonates most with the scientific method is that you first come up with a hypothesis (prior), you figure out the likelihood that the hypothesis is valid based on available evidence and then quantify the validity of the hypothesis by highlighting the level of associated uncertainty. \n",
    "\n",
    "\n",
    "## Bayesian Inference in Practice\n",
    "\n",
    "In practice, the denominator or the evidence i.e. the normalization constant of the Bayes theorem is a pain to calculate. For example, for continuous variables, Bayes theorem has the following form:\n",
    "\n",
    "$p(\\theta \\mid y) = \\frac{p(y \\mid \\theta) p(\\theta)}{\\int_{\\Theta}p(y \\mid \\tilde{\\theta}) p(\\tilde{\\theta}) \\; d\\tilde{\\theta}}$\n",
    "\n",
    "That integral is UGLY and sometimes computational infeasible and so, approximation techniques must be used to get to generate the posterior distribution : enter __Markov-Chain Monte Carlo (MCMC)__ methods.\n",
    "\n",
    "### Markov-Chain Monte-Carlo Methods\n",
    "\n",
    "Monte Carlo  = Random Number Generation; you \n",
    "Markov-Chain = The future only depends on the present, not the past. Linked list of approximations.\n",
    "\n",
    "## Goals\n",
    "\n",
    "The goals of this submission are to develop the following:\n",
    "\n",
    "1. __A Bayesian Domain Specific Language (DSL)__ that a statistician with no programming experience can understand and use to specify a model and its parameters and code that parses the model.\n",
    "2. A way to represent the Bayesian DSL as a Bayesian Network addressing the simplest case i.e. one prior and one likelihood.\n",
    "3. An algorithm that makes use of the Bayesian DSL representation to approximate the posterior distribution.\n",
    "\n",
    "![image](./Images/Plan.png)"
   ]
  },
  {
   "cell_type": "markdown",
   "metadata": {},
   "source": [
    "## Getting Setup\n",
    "\n",
    "The inferential logic will require minimal dependencies. Here are the dependencies and their respective uses:\n",
    "\n",
    "| Dependency        | Use          |\n",
    "| :-----------------| :----------: | \n",
    "| __XPlot.Plotly__  | Used for charting the histogram of the distributions.\n",
    "| __MathNet.Numerics__     | Used for the out-of-the-box statistical distributions. |\n",
    "| __Newtonsoft.Json__      | Parsing the parameters of the Bayesian DSL. |\n"
   ]
  },
  {
   "cell_type": "code",
   "execution_count": 12,
   "metadata": {},
   "outputs": [],
   "source": [
    "#!fsharp\n",
    "\n",
    "// Dependencies\n",
    "#r \"nuget: XPlot.Plotly\"\n",
    "#r \"nuget: MathNet.Numerics\"\n",
    "#r \"nuget: Newtonsoft.Json\"\n",
    "\n",
    "// Imports \n",
    "open XPlot.Plotly\n",
    "open MathNet.Numerics\n",
    "open Newtonsoft.Json"
   ]
  },
  {
   "cell_type": "markdown",
   "metadata": {},
   "source": [
    "## A Bayesian Domain Specific Language (DSL)  and Its Parser\n",
    "\n",
    "The goal of this section is to develop \"A Bayesian Domain Specific Language (DSL) that a statistician with no programming experience can understand and use to specify a model and its parameters and code that parses the model.\". \n",
    "\n",
    "Drawing inspiration from [Stan](https://mc-stan.org) and pymc3 tutorials such as this [one](https://docs.pymc.io/notebooks/stochastic_volatility.html#Stochastic-Volatility-model), I wanted this DSL to be extremely simple but complete and therefore, the components I found that describe each random variable of the Bayesian Model are:\n",
    "\n",
    "1. The Name of the Random Variable \n",
    "2. Conditionals of the Random Variables i.e. what other variables are given to be true to completely specify the random variable\n",
    "3. The distribution associated with the random variable.\n",
    "4. The parameters as variables of the distribution e.g. for a Normal Distribution, the parameters will be $\\mu$ and $\\sigma$, the mean and the variance respectively. \n",
    "5. The observed data for the Random Variable - if the random variable has \n",
    "6. A map of the parameters to constants to decouple the model from the values associated with the model.\n",
    "\n",
    "### Format\n",
    "\n",
    "```\n",
    "Random Variable Name [|Comma-separated Conditionals] ~ Distribution(Comma-separated Parameters without spaces) [: observed] \n",
    "```\n",
    "\n",
    "The details enclosed in ``[]`` imply optionality.\n",
    "\n",
    "### Example\n",
    "\n",
    "```\n",
    "θ ~ Gamma(a,b)\n",
    "Y|θ ~ Poisson(θ) : observed1\n",
    "Z|Y,θ ~ Beta(θ, Y) : observed2\n",
    "```"
   ]
  },
  {
   "cell_type": "markdown",
   "metadata": {},
   "source": [
    "### The Domain\n",
    "\n",
    "The domain or the types associated with the representation of the parsed random variable representing a single line in the specified model. "
   ]
  },
  {
   "cell_type": "code",
   "execution_count": 19,
   "metadata": {},
   "outputs": [],
   "source": [
    "#!fsharp\n",
    "\n",
    "type ParsedRandomVariable = \n",
    "    { Name             : string; \n",
    "      Conditionals     : string list; \n",
    "      Distribution     : string; \n",
    "      Parameters       : string list; \n",
    "      Observed         : string option }\n",
    "type ParsedBayesianModel = ParsedRandomVariable list"
   ]
  },
  {
   "cell_type": "markdown",
   "metadata": {},
   "source": [
    "### Parsing Logic\n",
    "\n",
    "The parsing logic for each line in the user specified model is as follows:\n",
    "1. Split the line by spaces.\n",
    "2. Extract the Name and the Conditionals from the first part of the model split on the tilde (~). ``Random Variable Name | [Conditionals]``.\n",
    "3. From the second part of the model split on the tilde, get the name of the distribution and its associated parameters along with the optionally available observed variable.\n",
    "\n",
    "F#'s awesome pattern matching was a lifesaver here not only for it's ease of use but it's automatic ability to specify the failure cases. "
   ]
  },
  {
   "cell_type": "code",
   "execution_count": 24,
   "metadata": {},
   "outputs": [],
   "source": [
    "#!fsharp\n",
    "open System\n",
    "\n",
    "// Format: RVName [|Conditionals] ~ Distribution(Parameters) [: observed] \n",
    "// [] -> optional\n",
    "// NOTE: There can't be any spaces in the distribution parameters.\n",
    "let parseLineOfModel (lineInModel : string) : ParsedRandomVariable = \n",
    " \n",
    "    // Helper fn to split the string based on a variety of type of delimiters.\n",
    "    // Resultant type is a list of strings to feed in for the pattern matching.\n",
    "    let splitToList (toSplit : string) (delimiters : obj) : string list = \n",
    "        let split = \n",
    "            match delimiters with\n",
    "            | :? string        as s   -> toSplit.Split(s, StringSplitOptions.RemoveEmptyEntries) \n",
    "            | :? array<string> as arr -> toSplit.Split(arr, StringSplitOptions.RemoveEmptyEntries) \n",
    "            | :? array<char>   as arr -> toSplit.Split(arr, StringSplitOptions.RemoveEmptyEntries) \n",
    "            | _ -> failwithf \"Splitting based on delimiters failed as it is neither a string nor an array of strings: Of Type: %A - %A\" (delimiters.GetType()) toSplit\n",
    "        \n",
    "        Array.toList split\n",
    "\n",
    "    match splitToList lineInModel \" \" with\n",
    "    | nameAndConditionals :: \"~\" :: distributionParametersObserved ->\n",
    "        // Get the name and conditionals.\n",
    "        let splitNameAndConditionals = splitToList nameAndConditionals \"|\"\n",
    "        let name = splitNameAndConditionals.[0]\n",
    "        let conditionals = \n",
    "            match splitNameAndConditionals with \n",
    "            | name :: conditionals -> \n",
    "                if conditionals.Length > 0 then splitToList conditionals.[0] \",\"\n",
    "                else []\n",
    "            | _ -> failwithf \"Pattern not found for RV Name and Conditionals - the format is: RVName|Condtionals: %A\" splitNameAndConditionals\n",
    "\n",
    "        let extractAndGetParameters (distributionNameAndParameters : string) : string * string list = \n",
    "            let splitDistributionAndParameters = splitToList distributionNameAndParameters [| \"(\"; \")\" |]\n",
    "            (splitDistributionAndParameters.[0], splitToList splitDistributionAndParameters.[1] \",\")\n",
    "            \n",
    "        match distributionParametersObserved with \n",
    "\n",
    "        // Case: Without Observations. Example: θ ~ Gamma(a,b)\n",
    "        | distributionNameAndParameters when distributionNameAndParameters.Length = 1 ->\n",
    "            let extractedDistributionAndParameters = extractAndGetParameters distributionNameAndParameters.[0]\n",
    "            { Name             = name; \n",
    "              Conditionals     = conditionals; \n",
    "              Distribution     = (fst extractedDistributionAndParameters).ToLower();\n",
    "              Observed         = None; \n",
    "              Parameters       = snd extractedDistributionAndParameters; }\n",
    "\n",
    "        // Case: With Observations. Example: Y|θ ~ Poisson(θ) : observed\n",
    "        | distributionNameAndParameters :: \":\" :: observed ->\n",
    "            let extractedDistributionAndParameters = extractAndGetParameters distributionNameAndParameters\n",
    "            { Name             = name;\n",
    "              Conditionals     = conditionals; \n",
    "              Distribution     = (fst extractedDistributionAndParameters).ToLower();\n",
    "              Observed         = Some observed.Head; // Only 1 observed list permitted.\n",
    "              Parameters       = snd extractedDistributionAndParameters; } \n",
    "\n",
    "        // Case: Error.\n",
    "        | _ -> failwithf \"Pattern not found for the model while parsing the distribution, parameters and optionally, the observed variables: %A\" distributionParametersObserved \n",
    "\n",
    "    | _ -> failwithf \"Pattern not found for the following line in the model - please check the syntax: %A\" lineInModel\n",
    "\n",
    "let parseModel (model : string) : ParsedBayesianModel = \n",
    "    model.Split('\\n') \n",
    "    |> Array.map(parseLineOfModel)\n",
    "    |> Array.toList\n",
    "\n",
    "let printParsedModel (model : string) : unit = \n",
    "    let parsedModel = parseModel model\n",
    "    printfn \"Model: %A is represented as %A\" model parsedModel"
   ]
  },
  {
   "cell_type": "markdown",
   "metadata": {},
   "source": [
    "### Examples of Parsing a User-Specified DSL"
   ]
  },
  {
   "cell_type": "code",
   "execution_count": 25,
   "metadata": {},
   "outputs": [
    {
     "name": "stdout",
     "output_type": "stream",
     "text": [
      "Model: \"θ ~ Gamma(a,b)\n",
      "              Y|θ ~ Poisson(θ) : observed\" is represented as [{ Name = \"θ\"\n",
      "   Conditionals = []\n",
      "   Distribution = \"gamma\"\n",
      "   Parameters = [\"a\"; \"b\"]\n",
      "   Observed = None }; { Name = \"Y\"\n",
      "                        Conditionals = [\"θ\"]\n",
      "                        Distribution = \"poisson\"\n",
      "                        Parameters = [\"θ\"]\n",
      "                        Observed = Some \"observed\" }]\n",
      "Model: \"θ ~ Beta(unit,unit)\n",
      "               gamma ~ Gamma(a,b)\n",
      "               Y|θ,gammma ~ Binomial(n,θ) : observed\" is represented as [{ Name = \"θ\"\n",
      "   Conditionals = []\n",
      "   Distribution = \"beta\"\n",
      "   Parameters = [\"unit\"; \"unit\"]\n",
      "   Observed = None }; { Name = \"gamma\"\n",
      "                        Conditionals = []\n",
      "                        Distribution = \"gamma\"\n",
      "                        Parameters = [\"a\"; \"b\"]\n",
      "                        Observed = None }; { Name = \"Y\"\n",
      "                                             Conditionals = [\"θ\"; \"gammma\"]\n",
      "                                             Distribution = \"binomial\"\n",
      "                                             Parameters = [\"n\"; \"θ\"]\n",
      "                                             Observed = Some \"observed\" }]\n"
     ]
    },
    {
     "data": {
      "text/html": [
       "<null>"
      ]
     },
     "execution_count": 25,
     "metadata": {},
     "output_type": "execute_result"
    }
   ],
   "source": [
    "#!fsharp\n",
    "// Print out our simple 1-Parameter Model.\n",
    "let model1 = @\"θ ~ Gamma(a,b)\n",
    "              Y|θ ~ Poisson(θ) : observed\"\n",
    "printParsedModel(model1)\n",
    "\n",
    "// This model doesn't make sense but adding to test multiple conditionals.\n",
    "let model2  = @\"θ ~ Beta(unit,unit)\n",
    "               gamma ~ Gamma(a,b)\n",
    "               Y|θ,gammma ~ Binomial(n,θ) : observed\"\n",
    "printParsedModel(model2)"
   ]
  },
  {
   "cell_type": "markdown",
   "metadata": {},
   "source": [
    "### Specifying the Parameters\n",
    "\n",
    "The idea is to decouple the parameters separate from the model and this is done by saving the details as a JSON string."
   ]
  },
  {
   "cell_type": "code",
   "execution_count": 33,
   "metadata": {},
   "outputs": [],
   "source": [
    "open System\n",
    "open System.Collections.Generic\n",
    "\n",
    "open MathNet.Numerics.Distributions\n",
    "\n",
    "open Newtonsoft.Json\n",
    "\n",
    "type Observed = float list\n",
    "\n",
    "type ParameterList = \n",
    "    { Observed : float list; Parameters : Dictionary<string, float> } \n",
    "\n",
    "let deserializeParameters (paramsAsString : string) : ParameterList = \n",
    "    JsonConvert.DeserializeObject<ParameterList>(paramsAsString)"
   ]
  },
  {
   "cell_type": "markdown",
   "metadata": {},
   "source": [
    "### Examples of the Deserialization of the Parameters"
   ]
  },
  {
   "cell_type": "code",
   "execution_count": 48,
   "metadata": {},
   "outputs": [
    {
     "name": "stdout",
     "output_type": "stream",
     "text": [
      "Deserialized Parameters 1: { Observed = [4.2; 0.235; 2.11]\n",
      "  Parameters = seq [[μ0, 0]; [σ0, 1]; [μ, 5]; [σ, 2]; ...] }\n",
      "Sampling from the Exponential Distribution with the λ = Exponential(λ = 2) parameter: 0.009017571093\n"
     ]
    },
    {
     "data": {
      "text/html": [
       "<null>"
      ]
     },
     "execution_count": 48,
     "metadata": {},
     "output_type": "execute_result"
    }
   ],
   "source": [
    "// Parameter List 1\n",
    "let parameters1 = \"{Parameters : {μ0 : 0, σ0 : 1, μ : 5, σ : 2, λ : 4}, observed : [4.2,0.235,2.11]}\"\n",
    "let deserializedParameters1 = deserializeParameters parameters1\n",
    "printfn \"Deserialized Parameters 1: %A\" (deserializedParameters1)\n",
    "\n",
    "// Parameter List 2\n",
    "let parameters2 = \"{Parameters: {λ : 2}}\"\n",
    "let deserializedParameters2 = deserializeParameters parameters2\n",
    "// Applying the Deserialized Parameters to Sample from a Distribution\n",
    "let exp = Exponential deserializedParameters2.Parameters.[\"λ\"] \n",
    "printfn \"Sampling from the Exponential Distribution with the λ = %A parameter: %A\" exp (exp.Sample())"
   ]
  },
  {
   "cell_type": "markdown",
   "metadata": {},
   "source": [
    "## Lessons and How I Can Improve The Implementation"
   ]
  },
  {
   "cell_type": "code",
   "execution_count": null,
   "metadata": {},
   "outputs": [],
   "source": []
  },
  {
   "cell_type": "markdown",
   "metadata": {},
   "source": [
    "## References"
   ]
  },
  {
   "cell_type": "code",
   "execution_count": null,
   "metadata": {},
   "outputs": [],
   "source": []
  },
  {
   "cell_type": "markdown",
   "metadata": {},
   "source": [
    "## Music Listened to While Working On This\n",
    "\n",
    "1. [John Zorn and Friends](https://www.youtube.com/watch?v=c4eO2o9u1j0&ab_channel=podgoryt)\n",
    "2. [Mike Patton and Mondo Cane](https://www.youtube.com/watch?v=iDOl5q7UXfg&ab_channel=FNM4EVER2)\n",
    "3. [Burt Bacharach - This Guy's In Love with you](https://www.youtube.com/watch?v=2dDGnl8_Dzg&ab_channel=MusicWonders )\n",
    "4. [Melvins - Lysol](https://www.youtube.com/watch?v=JtO_Awk4pqU&ab_channel=AboveDeath)\n",
    "5. [The Jesus Lizard - Puss](https://www.youtube.com/watch?v=PaBJQG6A9SQ&ab_channel=spycory1)\n",
    "6. [Mr. Bungle - Sudden Death](https://www.youtube.com/watch?v=-QWFV_057KM&ab_channel=IpecacRecordings)\n",
    "7. [Madreblu - Certamente](https://www.youtube.com/watch?v=Ivh0FWTSJ78&ab_channel=Milano2000Records)\n",
    "8. [Pato Banton - Spirits in the Material World](https://www.youtube.com/watch?v=S--kTyvm_fM&ab_channel=PatoBanton%26TheReggaeRevolution-Topic)\n",
    "9. [Max Cooper - Ripple](https://www.youtube.com/watch?v=P_X1KGCgWlE&ab_channel=MaxCooper-Topic)\n",
    "10. [The Sword - Cheap Sunglasses](https://www.youtube.com/watch?v=RYnTLIZkjlg&ab_channel=SwordofDoomMusic)\n",
    "11. [Brother Dege - Too Old To Die Young](https://www.youtube.com/watch?v=FQNFcYvILJE&ab_channel=UltimatePowa)\n",
    "12. [Mr. Bungle - Retrovertigo](https://www.youtube.com/watch?v=DRyh2cxJCp0&ab_channel=tkan)\n",
    "\n",
    "And Mr. Bungle's self-titled first album for motivation."
   ]
  }
 ],
 "metadata": {
  "kernelspec": {
   "display_name": ".NET (F#)",
   "language": "F#",
   "name": ".net-fsharp"
  },
  "language_info": {
   "file_extension": ".fs",
   "mimetype": "text/x-fsharp",
   "name": "C#",
   "pygments_lexer": "fsharp",
   "version": "4.5"
  }
 },
 "nbformat": 4,
 "nbformat_minor": 4
}
